{
 "cells": [
  {
   "cell_type": "code",
   "execution_count": 49,
   "id": "92113da0",
   "metadata": {},
   "outputs": [
    {
     "name": "stdout",
     "output_type": "stream",
     "text": [
      "ntyp\n"
     ]
    }
   ],
   "source": [
    "myString = \"python\";\n",
    "myString = myString.replace('h','');\n",
    "myString = myString.replace('o','');\n",
    "print(myString[::-1]);"
   ]
  },
  {
   "cell_type": "code",
   "execution_count": 34,
   "id": "1f8dc986",
   "metadata": {},
   "outputs": [
    {
     "name": "stdout",
     "output_type": "stream",
     "text": [
      "Enter First Number: 45\n",
      "Enter Second Number: 10\n",
      "55\n",
      "35\n",
      "450\n",
      "4.5\n"
     ]
    }
   ],
   "source": [
    "a = int(input(\"Enter First Number: \"));\n",
    "b = int(input(\"Enter Second Number: \"));\n",
    "print(a+b);\n",
    "print(a-b);\n",
    "print(a*b);\n",
    "print(a/b);"
   ]
  },
  {
   "cell_type": "code",
   "execution_count": 36,
   "id": "27184a59",
   "metadata": {},
   "outputs": [
    {
     "name": "stdout",
     "output_type": "stream",
     "text": [
      "I love playing with pythons\n"
     ]
    }
   ],
   "source": [
    "inputStr = \"I love playing with python\";\n",
    "print(inputStr.replace('python','pythons'));"
   ]
  },
  {
   "cell_type": "code",
   "execution_count": 33,
   "id": "1844eda3",
   "metadata": {},
   "outputs": [
    {
     "name": "stdout",
     "output_type": "stream",
     "text": [
      "Enter your score:90\n",
      "Your Grade is A\n"
     ]
    }
   ],
   "source": [
    "score = int(input(\"Enter your score:\"));\n",
    "if score >= 90 and score <=100:\n",
    "    print(\"Your Grade is A\");\n",
    "elif score >= 80 and score <=89:\n",
    "    print(\"Your Grade is B\");\n",
    "elif score >= 70 and score <=79:\n",
    "    print(\"Your Grade is C\");\n",
    "elif score >= 60 and score <=69:\n",
    "    print(\"Your Grade is D\");\n",
    "else:\n",
    "    print(\"Your Grade is F\");\n"
   ]
  }
 ],
 "metadata": {
  "kernelspec": {
   "display_name": "Python 3 (ipykernel)",
   "language": "python",
   "name": "python3"
  },
  "language_info": {
   "codemirror_mode": {
    "name": "ipython",
    "version": 3
   },
   "file_extension": ".py",
   "mimetype": "text/x-python",
   "name": "python",
   "nbconvert_exporter": "python",
   "pygments_lexer": "ipython3",
   "version": "3.9.13"
  }
 },
 "nbformat": 4,
 "nbformat_minor": 5
}
